{
 "cells": [
  {
   "cell_type": "markdown",
   "metadata": {},
   "source": [
    "# Color Object Tracking in Video"
   ]
  },
  {
   "cell_type": "code",
   "execution_count": 1,
   "metadata": {},
   "outputs": [],
   "source": [
    "import numpy as np\n",
    "import time\n",
    "import cv2"
   ]
  },
  {
   "cell_type": "markdown",
   "metadata": {},
   "source": [
    "## Track a blue object in video"
   ]
  },
  {
   "cell_type": "code",
   "execution_count": 2,
   "metadata": {},
   "outputs": [],
   "source": [
    "#Define the upper and lower threshold of color, for the object to be considered blue\n",
    "blue_lower = np.array([100, 67, 0], dtype = \"uint8\")\n",
    "blue_upper = np.array([255, 128, 50], dtype = \"uint8\")\n",
    "\n",
    "\n",
    "video = cv2.VideoCapture(0) #capture video from camera\n",
    "\n",
    "while True:\n",
    "    (frame_read, frame) = video.read()  #read frames one by one\n",
    "    \n",
    "    if not frame_read:  #break the loop when video ends\n",
    "        break\n",
    "        \n",
    "    object_ = cv2.inRange(frame, blue_lower, blue_upper) #threshold the frame\n",
    "    object_ = cv2.GaussianBlur(object_, (3,3), 0) #blur the frame to find contours more accurately\n",
    "\n",
    "    #find contours in thresholded frame\n",
    "    (_, contours, _) = cv2.findContours(object_.copy(), cv2.RETR_EXTERNAL, cv2.CHAIN_APPROX_SIMPLE)\n",
    "    # cv2.RETR_EXTERNAL to retrieve only the outermost contours (i.e., the contours that follow the outline of the coin)\n",
    "    \n",
    "#     cv2.CHAIN_APPROX_SIMPLE to compress horizontal, vertical, and diagonal segments into their endpoints\n",
    "#     only. This saves both computation and memory. If we wanted all the points along the contour, without compression,\n",
    "#     we can pass in cv2.CHAIN_APPROX_NONE; however, be very sparing when using this function. Retrieving all\n",
    "#     points along a contour is often unnecessary and is wasteful of resources.\n",
    "        \n",
    "    if len(contours) > 0:  \n",
    "        #find the largest contour\n",
    "        contour = sorted(contours, key = cv2.contourArea, reverse = True)[0]\n",
    "        rect = np.int32(cv2.boxPoints(cv2.minAreaRect(contour))) #bounding box\n",
    "        cv2.drawContours(frame, [rect], -1, [0,0,255], 2)    #draw the bounding box\n",
    "        \n",
    "    cv2.imshow(\"Tracking\", frame)\n",
    "    cv2.imshow(\"Binary\", object_)\n",
    "    \n",
    "    time.sleep(0.025) #slow down the process by a bit; pause execution by these many seconds\n",
    "    if cv2.waitKey(1) & 0xFF == ord(\"s\"):\n",
    "        break\n",
    "        \n",
    "video.release()\n",
    "cv2.destroyAllWindows()"
   ]
  },
  {
   "cell_type": "code",
   "execution_count": null,
   "metadata": {},
   "outputs": [],
   "source": []
  },
  {
   "cell_type": "code",
   "execution_count": null,
   "metadata": {},
   "outputs": [],
   "source": []
  }
 ],
 "metadata": {
  "kernelspec": {
   "display_name": "Python 3",
   "language": "python",
   "name": "python3"
  },
  "language_info": {
   "codemirror_mode": {
    "name": "ipython",
    "version": 3
   },
   "file_extension": ".py",
   "mimetype": "text/x-python",
   "name": "python",
   "nbconvert_exporter": "python",
   "pygments_lexer": "ipython3",
   "version": "3.6.3"
  }
 },
 "nbformat": 4,
 "nbformat_minor": 2
}
