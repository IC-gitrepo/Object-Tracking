{
 "cells": [
  {
   "cell_type": "markdown",
   "metadata": {},
   "source": [
    "# Real-time Face and Eyes Tracking\n"
   ]
  },
  {
   "cell_type": "code",
   "execution_count": 1,
   "metadata": {},
   "outputs": [],
   "source": [
    "import cv2"
   ]
  },
  {
   "cell_type": "code",
   "execution_count": 2,
   "metadata": {},
   "outputs": [],
   "source": [
    "video = cv2.VideoCapture(0)\n",
    "\n",
    "while True:\n",
    "    (frame_read, frame) = video.read()  #read frames one by one\n",
    "    \n",
    "    if not frame_read:  #break the loop when video ends\n",
    "        break\n",
    "        \n",
    "    frame_gray = cv2.cvtColor(frame, cv2.COLOR_BGR2GRAY)\n",
    "    frame_copied = frame.copy()\n",
    "\n",
    "    face_tracker = cv2.CascadeClassifier(\"haarcascade_frontalface_default.xml\")\n",
    "    eye_tracker = cv2.CascadeClassifier(\"haarcascade_eye.xml\")\n",
    "\n",
    "    #Detect the face first\n",
    "    face_rects = face_tracker.detectMultiScale(frame_gray, scaleFactor = 1.1, minNeighbors = 5, minSize = (30,30), \n",
    "                                          flags = cv2.CASCADE_SCALE_IMAGE)\n",
    "\n",
    "    face_eye_rects = []  #add all rectangles containing face and eyes to this list\n",
    "\n",
    "    for (x, y, width, height) in face_rects:  #for each rect. containing face\n",
    "        face_roi = frame_gray[y:y+height, x:x+width]   #extract this rect. from image\n",
    "        face_eye_rects.append((x, y, x+width, y+height))  #add this rect. to list\n",
    "\n",
    "        #Detect eyes\n",
    "        eye_rects = eye_tracker.detectMultiScale(face_roi, scaleFactor = 1.3, minNeighbors = 10, minSize = (20,20), \n",
    "                                                 flags = cv2.CASCADE_SCALE_IMAGE)   #detect eyes within this rect.\n",
    "        for (eye_x, eye_y, eye_width, eye_height) in eye_rects:\n",
    "            #add rects. containing eyes to list\n",
    "            face_eye_rects.append((x+eye_x, y+eye_y, x+eye_x+eye_width, y+eye_y+eye_height))\n",
    "        \n",
    "    for box in face_eye_rects:\n",
    "        cv2.rectangle(frame_copied, (box[0], box[1]), (box[2], box[3]), (0,0,255), 2)\n",
    "    cv2.imshow(\"Tracking face and eyes..\", frame_copied)\n",
    "    if cv2.waitKey(1) & 0xFF == ord(\"s\"):\n",
    "        break\n",
    "        \n",
    "video.release()\n",
    "cv2.destroyAllWindows()"
   ]
  },
  {
   "cell_type": "code",
   "execution_count": null,
   "metadata": {},
   "outputs": [],
   "source": []
  }
 ],
 "metadata": {
  "kernelspec": {
   "display_name": "Python 3",
   "language": "python",
   "name": "python3"
  },
  "language_info": {
   "codemirror_mode": {
    "name": "ipython",
    "version": 3
   },
   "file_extension": ".py",
   "mimetype": "text/x-python",
   "name": "python",
   "nbconvert_exporter": "python",
   "pygments_lexer": "ipython3",
   "version": "3.6.3"
  }
 },
 "nbformat": 4,
 "nbformat_minor": 2
}
